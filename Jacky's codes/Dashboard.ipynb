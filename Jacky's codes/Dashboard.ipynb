{
 "cells": [
  {
   "cell_type": "code",
   "execution_count": 1,
   "id": "dd09cbb1-4432-458c-8647-f12e9c9d6051",
   "metadata": {},
   "outputs": [],
   "source": [
    "# creating a dash board to show:\n",
    "# - fx/crypto graph and recent week/month/year returns\n",
    "# - our current strategies \n",
    "# - graphs and performance metrics"
   ]
  },
  {
   "cell_type": "code",
   "execution_count": 8,
   "id": "361b258b-fc05-404f-8258-71ae192add4b",
   "metadata": {},
   "outputs": [],
   "source": [
    "# imports\n",
    "import panel as pn\n",
    "from panel.interact import interact\n",
    "from panel import widgets\n",
    "import yfinance as yf"
   ]
  },
  {
   "cell_type": "code",
   "execution_count": 9,
   "id": "2c3221b9-87e2-4de0-aa44-9c47a4fca5c4",
   "metadata": {},
   "outputs": [],
   "source": [
    "#activating panel extension in Jupyter Lab\n",
    "pn.extension()"
   ]
  },
  {
   "cell_type": "code",
   "execution_count": 10,
   "id": "d82cda4f-17e2-442d-aa47-1069e30db3cd",
   "metadata": {},
   "outputs": [],
   "source": [
    "#initialize hvplot.pandas after pn.extension\n",
    "import hvplot.pandas"
   ]
  },
  {
   "cell_type": "code",
   "execution_count": 13,
   "id": "2213a61f-0f2a-47e9-94c4-9e75656679d0",
   "metadata": {},
   "outputs": [
    {
     "name": "stdout",
     "output_type": "stream",
     "text": [
      "[*********************100%***********************]  1 of 1 completed\n",
      "[*********************100%***********************]  1 of 1 completed\n"
     ]
    },
    {
     "data": {
      "text/html": [
       "<div>\n",
       "<style scoped>\n",
       "    .dataframe tbody tr th:only-of-type {\n",
       "        vertical-align: middle;\n",
       "    }\n",
       "\n",
       "    .dataframe tbody tr th {\n",
       "        vertical-align: top;\n",
       "    }\n",
       "\n",
       "    .dataframe thead th {\n",
       "        text-align: right;\n",
       "    }\n",
       "</style>\n",
       "<table border=\"1\" class=\"dataframe\">\n",
       "  <thead>\n",
       "    <tr style=\"text-align: right;\">\n",
       "      <th></th>\n",
       "      <th>Open</th>\n",
       "      <th>High</th>\n",
       "      <th>Low</th>\n",
       "      <th>Close</th>\n",
       "      <th>Adj Close</th>\n",
       "      <th>Volume</th>\n",
       "    </tr>\n",
       "  </thead>\n",
       "  <tbody>\n",
       "    <tr>\n",
       "      <th>2021-06-04 00:00:00+01:00</th>\n",
       "      <td>84.502998</td>\n",
       "      <td>84.557999</td>\n",
       "      <td>84.430000</td>\n",
       "      <td>84.480003</td>\n",
       "      <td>84.480003</td>\n",
       "      <td>0</td>\n",
       "    </tr>\n",
       "    <tr>\n",
       "      <th>2021-06-04 01:00:00+01:00</th>\n",
       "      <td>84.496002</td>\n",
       "      <td>84.514000</td>\n",
       "      <td>84.360001</td>\n",
       "      <td>84.424004</td>\n",
       "      <td>84.424004</td>\n",
       "      <td>0</td>\n",
       "    </tr>\n",
       "    <tr>\n",
       "      <th>2021-06-04 02:00:00+01:00</th>\n",
       "      <td>84.400002</td>\n",
       "      <td>84.453003</td>\n",
       "      <td>84.330002</td>\n",
       "      <td>84.377998</td>\n",
       "      <td>84.377998</td>\n",
       "      <td>0</td>\n",
       "    </tr>\n",
       "    <tr>\n",
       "      <th>2021-06-04 03:00:00+01:00</th>\n",
       "      <td>84.377998</td>\n",
       "      <td>84.421997</td>\n",
       "      <td>84.300003</td>\n",
       "      <td>84.360001</td>\n",
       "      <td>84.360001</td>\n",
       "      <td>0</td>\n",
       "    </tr>\n",
       "    <tr>\n",
       "      <th>2021-06-04 04:00:00+01:00</th>\n",
       "      <td>84.360001</td>\n",
       "      <td>84.432999</td>\n",
       "      <td>84.307999</td>\n",
       "      <td>84.410004</td>\n",
       "      <td>84.410004</td>\n",
       "      <td>0</td>\n",
       "    </tr>\n",
       "  </tbody>\n",
       "</table>\n",
       "</div>"
      ],
      "text/plain": [
       "                                Open       High        Low      Close  \\\n",
       "2021-06-04 00:00:00+01:00  84.502998  84.557999  84.430000  84.480003   \n",
       "2021-06-04 01:00:00+01:00  84.496002  84.514000  84.360001  84.424004   \n",
       "2021-06-04 02:00:00+01:00  84.400002  84.453003  84.330002  84.377998   \n",
       "2021-06-04 03:00:00+01:00  84.377998  84.421997  84.300003  84.360001   \n",
       "2021-06-04 04:00:00+01:00  84.360001  84.432999  84.307999  84.410004   \n",
       "\n",
       "                           Adj Close  Volume  \n",
       "2021-06-04 00:00:00+01:00  84.480003       0  \n",
       "2021-06-04 01:00:00+01:00  84.424004       0  \n",
       "2021-06-04 02:00:00+01:00  84.377998       0  \n",
       "2021-06-04 03:00:00+01:00  84.360001       0  \n",
       "2021-06-04 04:00:00+01:00  84.410004       0  "
      ]
     },
     "execution_count": 13,
     "metadata": {},
     "output_type": "execute_result"
    }
   ],
   "source": [
    "# testing with dual currencies\n",
    "AUD_USD = yf.download(tickers = \"AUDUSD=X\", period = \"1y\", interval = \"1h\")\n",
    "AUD_JPY = yf.download(tickers = \"AUDJPY=X\", period = \"1y\", interval = \"1h\")\n",
    "\n",
    "AUD_JPY.head()"
   ]
  },
  {
   "cell_type": "code",
   "execution_count": 18,
   "id": "e762931f-e88c-4dd7-91fe-850317f08ee5",
   "metadata": {},
   "outputs": [
    {
     "data": {},
     "metadata": {},
     "output_type": "display_data"
    },
    {
     "data": {
      "application/vnd.holoviews_exec.v0+json": "",
      "text/html": [
       "<div id='1002'>\n",
       "\n",
       "\n",
       "\n",
       "\n",
       "\n",
       "  <div class=\"bk-root\" id=\"ce1306a8-55af-4832-a6b0-ded9b24faa67\" data-root-id=\"1002\"></div>\n",
       "</div>\n",
       "<script type=\"application/javascript\">(function(root) {\n",
       "  function embed_document(root) {\n",
       "    var docs_json = {\"148753e8-7bbd-4259-b5f9-e7c49c21ea67\":{\"defs\":[{\"extends\":null,\"module\":null,\"name\":\"ReactiveHTML1\",\"overrides\":[],\"properties\":[]},{\"extends\":null,\"module\":null,\"name\":\"FlexBox1\",\"overrides\":[],\"properties\":[{\"default\":\"flex-start\",\"kind\":null,\"name\":\"align_content\"},{\"default\":\"flex-start\",\"kind\":null,\"name\":\"align_items\"},{\"default\":\"row\",\"kind\":null,\"name\":\"flex_direction\"},{\"default\":\"wrap\",\"kind\":null,\"name\":\"flex_wrap\"},{\"default\":\"flex-start\",\"kind\":null,\"name\":\"justify_content\"}]},{\"extends\":null,\"module\":null,\"name\":\"TemplateActions1\",\"overrides\":[],\"properties\":[{\"default\":0,\"kind\":null,\"name\":\"open_modal\"},{\"default\":0,\"kind\":null,\"name\":\"close_modal\"}]},{\"extends\":null,\"module\":null,\"name\":\"MaterialTemplateActions1\",\"overrides\":[],\"properties\":[{\"default\":0,\"kind\":null,\"name\":\"open_modal\"},{\"default\":0,\"kind\":null,\"name\":\"close_modal\"}]}],\"roots\":{\"references\":[{\"attributes\":{\"children\":[{\"id\":\"1003\"},{\"id\":\"1005\"}],\"margin\":[0,0,0,0],\"name\":\"Column01559\"},\"id\":\"1002\",\"type\":\"Column\"},{\"attributes\":{\"client_comm_id\":\"ef15c8555f584b46a5a3dbd8fe7a0ea5\",\"comm_id\":\"de5b48c3833c494cb9e7b1cfdde722af\",\"plot_id\":\"1002\"},\"id\":\"1007\",\"type\":\"panel.models.comm_manager.CommManager\"},{\"attributes\":{\"margin\":[5,10,5,10],\"options\":[\"AUD_JPY, AUD_USD\"],\"title\":\"x\",\"value\":\"AUD_JPY, AUD_USD\"},\"id\":\"1004\",\"type\":\"Select\"},{\"attributes\":{\"reload\":false},\"id\":\"1008\",\"type\":\"panel.models.location.Location\"},{\"attributes\":{\"children\":[{\"id\":\"1004\"}],\"margin\":[0,0,0,0],\"name\":\"Column01564\"},\"id\":\"1003\",\"type\":\"Column\"},{\"attributes\":{\"children\":[{\"id\":\"1006\"}],\"margin\":[0,0,0,0],\"name\":\"Row01563\"},\"id\":\"1005\",\"type\":\"Row\"},{\"attributes\":{\"css_classes\":[\"markdown\"],\"margin\":[5,5,5,5],\"name\":\"interactive01558\",\"text\":\"&lt;p&gt;AUD_JPY, AUD_USD&lt;/p&gt;\"},\"id\":\"1006\",\"type\":\"panel.models.markup.HTML\"}],\"root_ids\":[\"1002\",\"1007\",\"1008\"]},\"title\":\"Bokeh Application\",\"version\":\"2.4.2\"}};\n",
       "    var render_items = [{\"docid\":\"148753e8-7bbd-4259-b5f9-e7c49c21ea67\",\"root_ids\":[\"1002\"],\"roots\":{\"1002\":\"ce1306a8-55af-4832-a6b0-ded9b24faa67\"}}];\n",
       "    root.Bokeh.embed.embed_items_notebook(docs_json, render_items);\n",
       "  }\n",
       "  if (root.Bokeh !== undefined && root.Bokeh.Panel !== undefined) {\n",
       "    embed_document(root);\n",
       "  } else {\n",
       "    var attempts = 0;\n",
       "    var timer = setInterval(function(root) {\n",
       "      if (root.Bokeh !== undefined && root.Bokeh.Panel !== undefined) {\n",
       "        clearInterval(timer);\n",
       "        embed_document(root);\n",
       "      } else if (document.readyState == \"complete\") {\n",
       "        attempts++;\n",
       "        if (attempts > 200) {\n",
       "          clearInterval(timer);\n",
       "          console.log(\"Bokeh: ERROR: Unable to run BokehJS code because BokehJS library is missing\");\n",
       "        }\n",
       "      }\n",
       "    }, 25, root)\n",
       "  }\n",
       "})(window);</script>"
      ],
      "text/plain": [
       "Column\n",
       "    [0] Column\n",
       "        [0] Select(name='x', options=['AUD_JPY, AUD_USD'], value='AUD_JPY, AUD_USD')\n",
       "    [1] Row\n",
       "        [0] Markdown(str, name='interactive01558')"
      ]
     },
     "execution_count": 18,
     "metadata": {
      "application/vnd.holoviews_exec.v0+json": {
       "id": "1002"
      }
     },
     "output_type": "execute_result"
    }
   ],
   "source": [
    "def f(x):\n",
    "    return x\n",
    "\n",
    "interact(f, x=[\"AUD_JPY, AUD_USD\"])"
   ]
  },
  {
   "cell_type": "code",
   "execution_count": null,
   "id": "9c33bf34-d698-424c-b873-0eef9f4af0e1",
   "metadata": {},
   "outputs": [],
   "source": []
  },
  {
   "cell_type": "code",
   "execution_count": null,
   "id": "a5f93f5b-3046-41fc-bc8c-a3015f996a06",
   "metadata": {},
   "outputs": [],
   "source": []
  },
  {
   "cell_type": "code",
   "execution_count": null,
   "id": "d48df42c-8615-4d02-9180-6c213a246763",
   "metadata": {},
   "outputs": [],
   "source": []
  }
 ],
 "metadata": {
  "kernelspec": {
   "display_name": "Python 3 (ipykernel)",
   "language": "python",
   "name": "python3"
  },
  "language_info": {
   "codemirror_mode": {
    "name": "ipython",
    "version": 3
   },
   "file_extension": ".py",
   "mimetype": "text/x-python",
   "name": "python",
   "nbconvert_exporter": "python",
   "pygments_lexer": "ipython3",
   "version": "3.9.7"
  }
 },
 "nbformat": 4,
 "nbformat_minor": 5
}
