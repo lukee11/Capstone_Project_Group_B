{
 "cells": [
  {
   "cell_type": "code",
   "execution_count": 1,
   "id": "32332e01-d2dd-4226-96e7-0751a28d7441",
   "metadata": {},
   "outputs": [],
   "source": [
    "## use machine learning to test different investment strategies for crypto currency"
   ]
  },
  {
   "cell_type": "code",
   "execution_count": 23,
   "id": "3ca9c3b8-5980-44b6-b12e-7a18c842ba10",
   "metadata": {},
   "outputs": [],
   "source": [
    "# imports\n",
    "import pandas as pd\n",
    "import yfinance as yf\n",
    "import numpy as np"
   ]
  },
  {
   "cell_type": "code",
   "execution_count": 24,
   "id": "e304952e-b475-4251-9732-b0b165dbb05f",
   "metadata": {},
   "outputs": [
    {
     "name": "stdout",
     "output_type": "stream",
     "text": [
      "[*********************100%***********************]  1 of 1 completed\n"
     ]
    }
   ],
   "source": [
    "BTC = yf.download(tickers = \"BTC-AUD\", period = \"10y\", interval = \"1d\")"
   ]
  },
  {
   "cell_type": "code",
   "execution_count": 25,
   "id": "0989aa8d-8195-412e-ae47-3bfcb9732131",
   "metadata": {},
   "outputs": [
    {
     "data": {
      "text/html": [
       "<div>\n",
       "<style scoped>\n",
       "    .dataframe tbody tr th:only-of-type {\n",
       "        vertical-align: middle;\n",
       "    }\n",
       "\n",
       "    .dataframe tbody tr th {\n",
       "        vertical-align: top;\n",
       "    }\n",
       "\n",
       "    .dataframe thead th {\n",
       "        text-align: right;\n",
       "    }\n",
       "</style>\n",
       "<table border=\"1\" class=\"dataframe\">\n",
       "  <thead>\n",
       "    <tr style=\"text-align: right;\">\n",
       "      <th></th>\n",
       "      <th>Open</th>\n",
       "      <th>High</th>\n",
       "      <th>Low</th>\n",
       "      <th>Close</th>\n",
       "      <th>Adj Close</th>\n",
       "      <th>Volume</th>\n",
       "    </tr>\n",
       "    <tr>\n",
       "      <th>Date</th>\n",
       "      <th></th>\n",
       "      <th></th>\n",
       "      <th></th>\n",
       "      <th></th>\n",
       "      <th></th>\n",
       "      <th></th>\n",
       "    </tr>\n",
       "  </thead>\n",
       "  <tbody>\n",
       "    <tr>\n",
       "      <th>2014-09-17</th>\n",
       "      <td>513.122620</td>\n",
       "      <td>516.007935</td>\n",
       "      <td>504.935272</td>\n",
       "      <td>510.645386</td>\n",
       "      <td>510.645386</td>\n",
       "      <td>23511389</td>\n",
       "    </tr>\n",
       "    <tr>\n",
       "      <th>2014-09-18</th>\n",
       "      <td>510.116119</td>\n",
       "      <td>510.002228</td>\n",
       "      <td>459.924286</td>\n",
       "      <td>472.650330</td>\n",
       "      <td>472.650330</td>\n",
       "      <td>38400000</td>\n",
       "    </tr>\n",
       "    <tr>\n",
       "      <th>2014-09-19</th>\n",
       "      <td>472.275055</td>\n",
       "      <td>477.761017</td>\n",
       "      <td>428.161682</td>\n",
       "      <td>442.249359</td>\n",
       "      <td>442.249359</td>\n",
       "      <td>42477540</td>\n",
       "    </tr>\n",
       "    <tr>\n",
       "      <th>2014-09-20</th>\n",
       "      <td>442.111572</td>\n",
       "      <td>474.174957</td>\n",
       "      <td>436.745819</td>\n",
       "      <td>458.053101</td>\n",
       "      <td>458.053101</td>\n",
       "      <td>41294500</td>\n",
       "    </tr>\n",
       "    <tr>\n",
       "      <th>2014-09-21</th>\n",
       "      <td>457.135651</td>\n",
       "      <td>461.998413</td>\n",
       "      <td>440.440247</td>\n",
       "      <td>446.308197</td>\n",
       "      <td>446.308197</td>\n",
       "      <td>29744964</td>\n",
       "    </tr>\n",
       "  </tbody>\n",
       "</table>\n",
       "</div>"
      ],
      "text/plain": [
       "                  Open        High         Low       Close   Adj Close  \\\n",
       "Date                                                                     \n",
       "2014-09-17  513.122620  516.007935  504.935272  510.645386  510.645386   \n",
       "2014-09-18  510.116119  510.002228  459.924286  472.650330  472.650330   \n",
       "2014-09-19  472.275055  477.761017  428.161682  442.249359  442.249359   \n",
       "2014-09-20  442.111572  474.174957  436.745819  458.053101  458.053101   \n",
       "2014-09-21  457.135651  461.998413  440.440247  446.308197  446.308197   \n",
       "\n",
       "              Volume  \n",
       "Date                  \n",
       "2014-09-17  23511389  \n",
       "2014-09-18  38400000  \n",
       "2014-09-19  42477540  \n",
       "2014-09-20  41294500  \n",
       "2014-09-21  29744964  "
      ]
     },
     "execution_count": 25,
     "metadata": {},
     "output_type": "execute_result"
    }
   ],
   "source": [
    "BTC.head()"
   ]
  },
  {
   "cell_type": "code",
   "execution_count": 26,
   "id": "5856c28d-98d1-4493-a41a-28dbe0158832",
   "metadata": {},
   "outputs": [
    {
     "data": {
      "text/html": [
       "<div>\n",
       "<style scoped>\n",
       "    .dataframe tbody tr th:only-of-type {\n",
       "        vertical-align: middle;\n",
       "    }\n",
       "\n",
       "    .dataframe tbody tr th {\n",
       "        vertical-align: top;\n",
       "    }\n",
       "\n",
       "    .dataframe thead th {\n",
       "        text-align: right;\n",
       "    }\n",
       "</style>\n",
       "<table border=\"1\" class=\"dataframe\">\n",
       "  <thead>\n",
       "    <tr style=\"text-align: right;\">\n",
       "      <th></th>\n",
       "      <th>Open</th>\n",
       "      <th>High</th>\n",
       "      <th>Low</th>\n",
       "      <th>Close</th>\n",
       "      <th>Adj Close</th>\n",
       "      <th>Volume</th>\n",
       "      <th>actual_returns</th>\n",
       "    </tr>\n",
       "    <tr>\n",
       "      <th>Date</th>\n",
       "      <th></th>\n",
       "      <th></th>\n",
       "      <th></th>\n",
       "      <th></th>\n",
       "      <th></th>\n",
       "      <th></th>\n",
       "      <th></th>\n",
       "    </tr>\n",
       "  </thead>\n",
       "  <tbody>\n",
       "    <tr>\n",
       "      <th>2014-09-18</th>\n",
       "      <td>510.116119</td>\n",
       "      <td>510.002228</td>\n",
       "      <td>459.924286</td>\n",
       "      <td>472.650330</td>\n",
       "      <td>472.650330</td>\n",
       "      <td>38400000</td>\n",
       "      <td>-0.074406</td>\n",
       "    </tr>\n",
       "    <tr>\n",
       "      <th>2014-09-19</th>\n",
       "      <td>472.275055</td>\n",
       "      <td>477.761017</td>\n",
       "      <td>428.161682</td>\n",
       "      <td>442.249359</td>\n",
       "      <td>442.249359</td>\n",
       "      <td>42477540</td>\n",
       "      <td>-0.064320</td>\n",
       "    </tr>\n",
       "    <tr>\n",
       "      <th>2014-09-20</th>\n",
       "      <td>442.111572</td>\n",
       "      <td>474.174957</td>\n",
       "      <td>436.745819</td>\n",
       "      <td>458.053101</td>\n",
       "      <td>458.053101</td>\n",
       "      <td>41294500</td>\n",
       "      <td>0.035735</td>\n",
       "    </tr>\n",
       "    <tr>\n",
       "      <th>2014-09-21</th>\n",
       "      <td>457.135651</td>\n",
       "      <td>461.998413</td>\n",
       "      <td>440.440247</td>\n",
       "      <td>446.308197</td>\n",
       "      <td>446.308197</td>\n",
       "      <td>29744964</td>\n",
       "      <td>-0.025641</td>\n",
       "    </tr>\n",
       "    <tr>\n",
       "      <th>2014-09-22</th>\n",
       "      <td>446.620422</td>\n",
       "      <td>456.952271</td>\n",
       "      <td>444.913727</td>\n",
       "      <td>453.077972</td>\n",
       "      <td>453.077972</td>\n",
       "      <td>27182965</td>\n",
       "      <td>0.015168</td>\n",
       "    </tr>\n",
       "  </tbody>\n",
       "</table>\n",
       "</div>"
      ],
      "text/plain": [
       "                  Open        High         Low       Close   Adj Close  \\\n",
       "Date                                                                     \n",
       "2014-09-18  510.116119  510.002228  459.924286  472.650330  472.650330   \n",
       "2014-09-19  472.275055  477.761017  428.161682  442.249359  442.249359   \n",
       "2014-09-20  442.111572  474.174957  436.745819  458.053101  458.053101   \n",
       "2014-09-21  457.135651  461.998413  440.440247  446.308197  446.308197   \n",
       "2014-09-22  446.620422  456.952271  444.913727  453.077972  453.077972   \n",
       "\n",
       "              Volume  actual_returns  \n",
       "Date                                  \n",
       "2014-09-18  38400000       -0.074406  \n",
       "2014-09-19  42477540       -0.064320  \n",
       "2014-09-20  41294500        0.035735  \n",
       "2014-09-21  29744964       -0.025641  \n",
       "2014-09-22  27182965        0.015168  "
      ]
     },
     "execution_count": 26,
     "metadata": {},
     "output_type": "execute_result"
    }
   ],
   "source": [
    "# add a daily return values column to DF\n",
    "BTC[\"actual_returns\"] = BTC[\"Close\"].pct_change()\n",
    "BTC = BTC.dropna()\n",
    "BTC.head()"
   ]
  },
  {
   "cell_type": "code",
   "execution_count": 27,
   "id": "d69c48ac-442d-47fc-bd08-4a932f4b920f",
   "metadata": {},
   "outputs": [
    {
     "name": "stderr",
     "output_type": "stream",
     "text": [
      "C:\\Users\\Jacks\\AppData\\Local\\Temp\\ipykernel_25632\\652788242.py:5: SettingWithCopyWarning: \n",
      "A value is trying to be set on a copy of a slice from a DataFrame.\n",
      "Try using .loc[row_indexer,col_indexer] = value instead\n",
      "\n",
      "See the caveats in the documentation: https://pandas.pydata.org/pandas-docs/stable/user_guide/indexing.html#returning-a-view-versus-a-copy\n",
      "  BTC[\"fast\"] = BTC[\"Close\"].rolling(window = short_window).mean()\n",
      "C:\\Users\\Jacks\\AppData\\Local\\Temp\\ipykernel_25632\\652788242.py:6: SettingWithCopyWarning: \n",
      "A value is trying to be set on a copy of a slice from a DataFrame.\n",
      "Try using .loc[row_indexer,col_indexer] = value instead\n",
      "\n",
      "See the caveats in the documentation: https://pandas.pydata.org/pandas-docs/stable/user_guide/indexing.html#returning-a-view-versus-a-copy\n",
      "  BTC[\"slow\"] = BTC[\"Close\"].rolling(window = long_window).mean()\n"
     ]
    }
   ],
   "source": [
    "# Generating feature and target sets\n",
    "# define a window size of 7 and 50\n",
    "short_window = 7\n",
    "long_window = 50\n",
    "BTC[\"fast\"] = BTC[\"Close\"].rolling(window = short_window).mean()\n",
    "BTC[\"slow\"] = BTC[\"Close\"].rolling(window = long_window).mean()"
   ]
  },
  {
   "cell_type": "code",
   "execution_count": 28,
   "id": "0f3aafe6-50cf-451a-b93d-2b5f44676e1e",
   "metadata": {},
   "outputs": [],
   "source": [
    "BTC = BTC.dropna()"
   ]
  },
  {
   "cell_type": "code",
   "execution_count": 29,
   "id": "4ead6e13-e35a-4aac-9b05-5b851a37ba38",
   "metadata": {},
   "outputs": [
    {
     "data": {
      "text/html": [
       "<div>\n",
       "<style scoped>\n",
       "    .dataframe tbody tr th:only-of-type {\n",
       "        vertical-align: middle;\n",
       "    }\n",
       "\n",
       "    .dataframe tbody tr th {\n",
       "        vertical-align: top;\n",
       "    }\n",
       "\n",
       "    .dataframe thead th {\n",
       "        text-align: right;\n",
       "    }\n",
       "</style>\n",
       "<table border=\"1\" class=\"dataframe\">\n",
       "  <thead>\n",
       "    <tr style=\"text-align: right;\">\n",
       "      <th></th>\n",
       "      <th>Open</th>\n",
       "      <th>High</th>\n",
       "      <th>Low</th>\n",
       "      <th>Close</th>\n",
       "      <th>Adj Close</th>\n",
       "      <th>Volume</th>\n",
       "      <th>actual_returns</th>\n",
       "      <th>fast</th>\n",
       "      <th>slow</th>\n",
       "    </tr>\n",
       "    <tr>\n",
       "      <th>Date</th>\n",
       "      <th></th>\n",
       "      <th></th>\n",
       "      <th></th>\n",
       "      <th></th>\n",
       "      <th></th>\n",
       "      <th></th>\n",
       "      <th></th>\n",
       "      <th></th>\n",
       "      <th></th>\n",
       "    </tr>\n",
       "  </thead>\n",
       "  <tbody>\n",
       "    <tr>\n",
       "      <th>2014-11-06</th>\n",
       "      <td>395.777100</td>\n",
       "      <td>412.199005</td>\n",
       "      <td>393.516296</td>\n",
       "      <td>408.001404</td>\n",
       "      <td>408.001404</td>\n",
       "      <td>21956547</td>\n",
       "      <td>0.030802</td>\n",
       "      <td>383.707559</td>\n",
       "      <td>422.480257</td>\n",
       "    </tr>\n",
       "    <tr>\n",
       "      <th>2014-11-07</th>\n",
       "      <td>408.618134</td>\n",
       "      <td>412.455566</td>\n",
       "      <td>396.262024</td>\n",
       "      <td>396.680969</td>\n",
       "      <td>396.680969</td>\n",
       "      <td>19502085</td>\n",
       "      <td>-0.027746</td>\n",
       "      <td>385.447784</td>\n",
       "      <td>420.960870</td>\n",
       "    </tr>\n",
       "    <tr>\n",
       "      <th>2014-11-08</th>\n",
       "      <td>396.378571</td>\n",
       "      <td>402.029663</td>\n",
       "      <td>396.378571</td>\n",
       "      <td>400.240967</td>\n",
       "      <td>400.240967</td>\n",
       "      <td>9888172</td>\n",
       "      <td>0.008974</td>\n",
       "      <td>389.737728</td>\n",
       "      <td>420.120702</td>\n",
       "    </tr>\n",
       "    <tr>\n",
       "      <th>2014-11-09</th>\n",
       "      <td>400.111237</td>\n",
       "      <td>420.522736</td>\n",
       "      <td>398.812561</td>\n",
       "      <td>420.298523</td>\n",
       "      <td>420.298523</td>\n",
       "      <td>28006016</td>\n",
       "      <td>0.050114</td>\n",
       "      <td>396.573517</td>\n",
       "      <td>419.365610</td>\n",
       "    </tr>\n",
       "    <tr>\n",
       "      <th>2014-11-10</th>\n",
       "      <td>419.142670</td>\n",
       "      <td>434.871796</td>\n",
       "      <td>412.649750</td>\n",
       "      <td>425.567169</td>\n",
       "      <td>425.567169</td>\n",
       "      <td>35316748</td>\n",
       "      <td>0.012535</td>\n",
       "      <td>403.515189</td>\n",
       "      <td>418.950790</td>\n",
       "    </tr>\n",
       "  </tbody>\n",
       "</table>\n",
       "</div>"
      ],
      "text/plain": [
       "                  Open        High         Low       Close   Adj Close  \\\n",
       "Date                                                                     \n",
       "2014-11-06  395.777100  412.199005  393.516296  408.001404  408.001404   \n",
       "2014-11-07  408.618134  412.455566  396.262024  396.680969  396.680969   \n",
       "2014-11-08  396.378571  402.029663  396.378571  400.240967  400.240967   \n",
       "2014-11-09  400.111237  420.522736  398.812561  420.298523  420.298523   \n",
       "2014-11-10  419.142670  434.871796  412.649750  425.567169  425.567169   \n",
       "\n",
       "              Volume  actual_returns        fast        slow  \n",
       "Date                                                          \n",
       "2014-11-06  21956547        0.030802  383.707559  422.480257  \n",
       "2014-11-07  19502085       -0.027746  385.447784  420.960870  \n",
       "2014-11-08   9888172        0.008974  389.737728  420.120702  \n",
       "2014-11-09  28006016        0.050114  396.573517  419.365610  \n",
       "2014-11-10  35316748        0.012535  403.515189  418.950790  "
      ]
     },
     "execution_count": 29,
     "metadata": {},
     "output_type": "execute_result"
    }
   ],
   "source": [
    "BTC.head()"
   ]
  },
  {
   "cell_type": "code",
   "execution_count": 30,
   "id": "c1e8f858-2f4c-4ed8-8a70-209f920be403",
   "metadata": {},
   "outputs": [
    {
     "data": {
      "text/html": [
       "<div>\n",
       "<style scoped>\n",
       "    .dataframe tbody tr th:only-of-type {\n",
       "        vertical-align: middle;\n",
       "    }\n",
       "\n",
       "    .dataframe tbody tr th {\n",
       "        vertical-align: top;\n",
       "    }\n",
       "\n",
       "    .dataframe thead th {\n",
       "        text-align: right;\n",
       "    }\n",
       "</style>\n",
       "<table border=\"1\" class=\"dataframe\">\n",
       "  <thead>\n",
       "    <tr style=\"text-align: right;\">\n",
       "      <th></th>\n",
       "      <th>fast</th>\n",
       "      <th>slow</th>\n",
       "    </tr>\n",
       "    <tr>\n",
       "      <th>Date</th>\n",
       "      <th></th>\n",
       "      <th></th>\n",
       "    </tr>\n",
       "  </thead>\n",
       "  <tbody>\n",
       "    <tr>\n",
       "      <th>2014-11-06</th>\n",
       "      <td>383.707559</td>\n",
       "      <td>422.480257</td>\n",
       "    </tr>\n",
       "    <tr>\n",
       "      <th>2014-11-07</th>\n",
       "      <td>385.447784</td>\n",
       "      <td>420.960870</td>\n",
       "    </tr>\n",
       "    <tr>\n",
       "      <th>2014-11-08</th>\n",
       "      <td>389.737728</td>\n",
       "      <td>420.120702</td>\n",
       "    </tr>\n",
       "    <tr>\n",
       "      <th>2014-11-09</th>\n",
       "      <td>396.573517</td>\n",
       "      <td>419.365610</td>\n",
       "    </tr>\n",
       "    <tr>\n",
       "      <th>2014-11-10</th>\n",
       "      <td>403.515189</td>\n",
       "      <td>418.950790</td>\n",
       "    </tr>\n",
       "  </tbody>\n",
       "</table>\n",
       "</div>"
      ],
      "text/plain": [
       "                  fast        slow\n",
       "Date                              \n",
       "2014-11-06  383.707559  422.480257\n",
       "2014-11-07  385.447784  420.960870\n",
       "2014-11-08  389.737728  420.120702\n",
       "2014-11-09  396.573517  419.365610\n",
       "2014-11-10  403.515189  418.950790"
      ]
     },
     "execution_count": 30,
     "metadata": {},
     "output_type": "execute_result"
    }
   ],
   "source": [
    "# creating features set\n",
    "X = BTC[[\"fast\",\"slow\"]].copy()\n",
    "X.head()"
   ]
  },
  {
   "cell_type": "code",
   "execution_count": 31,
   "id": "a23944b2-5c43-40e4-8942-20c1a8670060",
   "metadata": {},
   "outputs": [
    {
     "name": "stderr",
     "output_type": "stream",
     "text": [
      "C:\\Users\\Jacks\\AppData\\Local\\Temp\\ipykernel_25632\\1588072208.py:2: SettingWithCopyWarning: \n",
      "A value is trying to be set on a copy of a slice from a DataFrame.\n",
      "Try using .loc[row_indexer,col_indexer] = value instead\n",
      "\n",
      "See the caveats in the documentation: https://pandas.pydata.org/pandas-docs/stable/user_guide/indexing.html#returning-a-view-versus-a-copy\n",
      "  BTC[\"signal\"] = 0.0\n"
     ]
    }
   ],
   "source": [
    "# create the target set\n",
    "BTC[\"signal\"] = 0.0\n",
    "\n",
    "# Create the signal to buy\n",
    "BTC.loc[(BTC['actual_returns'] >= 0), 'signal'] = 1\n",
    "\n",
    "# Create the signal to sell\n",
    "BTC.loc[(BTC['actual_returns'] < 0), 'signal'] = -1\n",
    "\n",
    "# setting target\n",
    "y = BTC[\"signal\"].copy()"
   ]
  },
  {
   "cell_type": "code",
   "execution_count": 44,
   "id": "fdcb9e39-570d-4138-9e7f-aa7b0ead07f9",
   "metadata": {},
   "outputs": [],
   "source": [
    "## splitting data into training and testing datasets\n",
    "# imports\n",
    "from pandas.tseries.offsets import DateOffset"
   ]
  },
  {
   "cell_type": "code",
   "execution_count": 49,
   "id": "21816441-d1bf-4cfe-a279-49688ed810dc",
   "metadata": {},
   "outputs": [
    {
     "name": "stdout",
     "output_type": "stream",
     "text": [
      "2014-11-06 00:00:00\n",
      "2019-11-06 00:00:00\n"
     ]
    }
   ],
   "source": [
    "# Select the start of the training period\n",
    "training_begin = X.index.min()\n",
    "print(training_begin)\n",
    "\n",
    "# Select the ending period for the training data with an offset of 3 months\n",
    "training_end = X.index.min() + DateOffset(years=5)\n",
    "\n",
    "# Display the training end date\n",
    "print(training_end)"
   ]
  },
  {
   "cell_type": "code",
   "execution_count": 52,
   "id": "7e54dc51-7e3d-4e24-9523-a06aac99126f",
   "metadata": {},
   "outputs": [],
   "source": [
    "# Generate the X_train and y_train DataFrames\n",
    "X_train = X.loc[training_begin:training_end]\n",
    "y_train = y.loc[training_begin:training_end]\n",
    "\n",
    "# Generate the X_test and y_test DataFrames\n",
    "X_test = X.loc[training_end:]\n",
    "y_test = y.loc[training_end:]\n"
   ]
  },
  {
   "cell_type": "code",
   "execution_count": 54,
   "id": "a3a352da-e667-476c-ae71-a78bd1073ffe",
   "metadata": {},
   "outputs": [],
   "source": [
    "## Standardize the data"
   ]
  },
  {
   "cell_type": "code",
   "execution_count": 56,
   "id": "11015984-4f70-4f77-ab8a-1585054a5ad7",
   "metadata": {},
   "outputs": [],
   "source": [
    "# Imports\n",
    "from sklearn.preprocessing import StandardScaler\n",
    "\n",
    "# Create a StandardScaler instance\n",
    "scaler = StandardScaler()\n",
    " \n",
    "# Apply the scaler model to fit the X-train data\n",
    "X_scaler = scaler.fit(X_train)\n",
    " \n",
    "# Transform the X_train and X_test DataFrames using the X_scaler\n",
    "X_train_scaled = X_scaler.transform(X_train)\n",
    "X_test_scaled = X_scaler.transform(X_test)"
   ]
  },
  {
   "cell_type": "code",
   "execution_count": 57,
   "id": "ddd90f34-f784-4ccb-9139-35c6190996c0",
   "metadata": {},
   "outputs": [],
   "source": [
    "## Incorporate the SVM Machine Learning Into the Trading Strategy"
   ]
  },
  {
   "cell_type": "code",
   "execution_count": 58,
   "id": "9b6a157d-8d68-4782-95d2-b6fe0a8df9ec",
   "metadata": {},
   "outputs": [
    {
     "data": {
      "text/plain": [
       "array([1., 1., 1., 1., 1., 1., 1., 1., 1., 1.])"
      ]
     },
     "execution_count": 58,
     "metadata": {},
     "output_type": "execute_result"
    }
   ],
   "source": [
    "# Imports\n",
    "from sklearn import svm\n",
    "from sklearn.metrics import classification_report\n",
    "\n",
    "# Create the classifier model\n",
    "svm_model = svm.SVC()\n",
    " \n",
    "# Fit the model to the data using X_train_scaled and y_train\n",
    "svm_model = svm_model.fit(X_train_scaled, y_train)\n",
    "\n",
    "# Use the trained model to predict the trading signals for the training data\n",
    "training_signal_predictions = svm_model.predict(X_train_scaled)\n",
    "\n",
    "# Display the sample predictions\n",
    "training_signal_predictions[:10]"
   ]
  },
  {
   "cell_type": "code",
   "execution_count": 59,
   "id": "c37741ff-41c6-4728-a576-1e33662c1d71",
   "metadata": {},
   "outputs": [
    {
     "name": "stdout",
     "output_type": "stream",
     "text": [
      "              precision    recall  f1-score   support\n",
      "\n",
      "        -1.0       0.55      0.09      0.16       825\n",
      "         1.0       0.56      0.94      0.70      1002\n",
      "\n",
      "    accuracy                           0.56      1827\n",
      "   macro avg       0.55      0.52      0.43      1827\n",
      "weighted avg       0.55      0.56      0.46      1827\n",
      "\n"
     ]
    }
   ],
   "source": [
    "# Evaluate the model using a classification report\n",
    "training_report = classification_report(y_train, training_signal_predictions)\n",
    "print(training_report)"
   ]
  },
  {
   "cell_type": "code",
   "execution_count": 60,
   "id": "4d7d3c5e-0c0e-4a53-9855-28f8719e8eeb",
   "metadata": {},
   "outputs": [],
   "source": [
    "## Backtesting a Machine Learning Trading Algorithm"
   ]
  },
  {
   "cell_type": "code",
   "execution_count": 63,
   "id": "641b3e17-1f7a-4129-b6e2-74807da8a787",
   "metadata": {},
   "outputs": [
    {
     "name": "stdout",
     "output_type": "stream",
     "text": [
      "              precision    recall  f1-score   support\n",
      "\n",
      "        -1.0       0.39      0.11      0.18       458\n",
      "         1.0       0.49      0.83      0.62       478\n",
      "\n",
      "    accuracy                           0.48       936\n",
      "   macro avg       0.44      0.47      0.40       936\n",
      "weighted avg       0.44      0.48      0.40       936\n",
      "\n"
     ]
    }
   ],
   "source": [
    "# Use the trained model to predict the trading signals for the testing data.\n",
    "testing_signal_predictions = svm_model.predict(X_test_scaled)\n",
    "\n",
    "# Evaluate the model's ability to predict the trading signal for the testing data\n",
    "svm_testing_report = classification_report(y_test, testing_signal_predictions)\n",
    "print(svm_testing_report)"
   ]
  },
  {
   "cell_type": "code",
   "execution_count": 64,
   "id": "f6047e40-39c5-4f53-b500-5fb9376d36c7",
   "metadata": {},
   "outputs": [
    {
     "data": {
      "text/html": [
       "<div>\n",
       "<style scoped>\n",
       "    .dataframe tbody tr th:only-of-type {\n",
       "        vertical-align: middle;\n",
       "    }\n",
       "\n",
       "    .dataframe tbody tr th {\n",
       "        vertical-align: top;\n",
       "    }\n",
       "\n",
       "    .dataframe thead th {\n",
       "        text-align: right;\n",
       "    }\n",
       "</style>\n",
       "<table border=\"1\" class=\"dataframe\">\n",
       "  <thead>\n",
       "    <tr style=\"text-align: right;\">\n",
       "      <th></th>\n",
       "      <th>predicted_signal</th>\n",
       "      <th>actual_returns</th>\n",
       "      <th>trading_algorithm_returns</th>\n",
       "    </tr>\n",
       "    <tr>\n",
       "      <th>Date</th>\n",
       "      <th></th>\n",
       "      <th></th>\n",
       "      <th></th>\n",
       "    </tr>\n",
       "  </thead>\n",
       "  <tbody>\n",
       "    <tr>\n",
       "      <th>2019-11-06</th>\n",
       "      <td>1.0</td>\n",
       "      <td>0.003888</td>\n",
       "      <td>0.003888</td>\n",
       "    </tr>\n",
       "    <tr>\n",
       "      <th>2019-11-07</th>\n",
       "      <td>1.0</td>\n",
       "      <td>-0.013126</td>\n",
       "      <td>-0.013126</td>\n",
       "    </tr>\n",
       "    <tr>\n",
       "      <th>2019-11-08</th>\n",
       "      <td>1.0</td>\n",
       "      <td>-0.044746</td>\n",
       "      <td>-0.044746</td>\n",
       "    </tr>\n",
       "    <tr>\n",
       "      <th>2019-11-09</th>\n",
       "      <td>1.0</td>\n",
       "      <td>0.000988</td>\n",
       "      <td>0.000988</td>\n",
       "    </tr>\n",
       "    <tr>\n",
       "      <th>2019-11-10</th>\n",
       "      <td>1.0</td>\n",
       "      <td>0.028132</td>\n",
       "      <td>0.028132</td>\n",
       "    </tr>\n",
       "  </tbody>\n",
       "</table>\n",
       "</div>"
      ],
      "text/plain": [
       "            predicted_signal  actual_returns  trading_algorithm_returns\n",
       "Date                                                                   \n",
       "2019-11-06               1.0        0.003888                   0.003888\n",
       "2019-11-07               1.0       -0.013126                  -0.013126\n",
       "2019-11-08               1.0       -0.044746                  -0.044746\n",
       "2019-11-09               1.0        0.000988                   0.000988\n",
       "2019-11-10               1.0        0.028132                   0.028132"
      ]
     },
     "execution_count": 64,
     "metadata": {},
     "output_type": "execute_result"
    }
   ],
   "source": [
    "# Create a new empty predictions DataFrame using code provided below.\n",
    "predictions_df = pd.DataFrame(index=X_test.index)\n",
    "predictions_df[\"predicted_signal\"] = testing_signal_predictions\n",
    "predictions_df[\"actual_returns\"] = BTC[\"actual_returns\"]\n",
    "predictions_df[\"trading_algorithm_returns\"] = predictions_df[\"actual_returns\"] * predictions_df[\"predicted_signal\"]\n",
    "predictions_df.head()"
   ]
  },
  {
   "cell_type": "code",
   "execution_count": 65,
   "id": "0d82370b-15ea-4ca7-9573-32392188d978",
   "metadata": {},
   "outputs": [
    {
     "data": {
      "text/plain": [
       "<AxesSubplot:xlabel='Date'>"
      ]
     },
     "execution_count": 65,
     "metadata": {},
     "output_type": "execute_result"
    },
    {
     "data": {
      "image/png": "[encoded data removed]",
      "text/plain": [
       "<Figure size 432x288 with 1 Axes>"
      ]
     },
     "metadata": {
      "needs_background": "light"
     },
     "output_type": "display_data"
    }
   ],
   "source": [
    "# Calculate and plot the cumulative returns for the `actual_returns` and the `trading_algorithm_returns`\n",
    "(1 + predictions_df[[\"actual_returns\", \"trading_algorithm_returns\"]]).cumprod().plot()"
   ]
  },
  {
   "cell_type": "code",
   "execution_count": null,
   "id": "457bf366-ae0a-4cbb-909e-6ed2bb4872ec",
   "metadata": {},
   "outputs": [],
   "source": []
  }
 ],
 "metadata": {
  "kernelspec": {
   "display_name": "Python 3 (ipykernel)",
   "language": "python",
   "name": "python3"
  },
  "language_info": {
   "codemirror_mode": {
    "name": "ipython",
    "version": 3
   },
   "file_extension": ".py",
   "mimetype": "text/x-python",
   "name": "python",
   "nbconvert_exporter": "python",
   "pygments_lexer": "ipython3",
   "version": "3.9.7"
  }
 },
 "nbformat": 4,
 "nbformat_minor": 5
}
